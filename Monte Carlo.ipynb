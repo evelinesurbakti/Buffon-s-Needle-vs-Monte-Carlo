{
 "cells": [
  {
   "cell_type": "markdown",
   "metadata": {},
   "source": [
    "# Monte Carlo Simulation\n",
    "\n",
    "#### Pre-req:\n",
    "\n",
    "You may check the sources: <https://ocw.mit.edu/resources/res-6-012-introduction-to-probability-spring-2018/part-i-the-fundamentals/buffons-needle-monte-carlo-simulation/> or <https://en.wikipedia.org/wiki/Buffon%27s_needle_problem>\n",
    "\n",
    "\n",
    "This is Monte Carlo simulation that approximates phi by computing the ratio of the area of a quarter disk (inside the unit square) to the area of the square. Start with a repetition number of N = 10000 and then additionally increase N = 20,000; 50,000; 100,000; 5 x 100,000; 1,000,000. \n",
    "\n",
    "For each N, we run the code three times using different seeds and compute the mean and the minimum, maximum values for each set of three results. Summarize the results in an error-bar plot of the approximation as a function of N where the error bars should extend from minimum to maximum. Also include the exact result as a horizontal line in your plot. \n",
    "\n",
    "Finally briefly, in the end we will compare the method with Buffon's needle method."
   ]
  },
  {
   "cell_type": "code",
   "execution_count": 7,
   "metadata": {},
   "outputs": [
    {
     "name": "stdout",
     "output_type": "stream",
     "text": [
      "========================Pi=====\n",
      "===============================\n",
      "Pi with seed = 123432 3.122\n",
      "===============================\n",
      "Pi with seed = 234444 3.132\n",
      "===============================\n",
      "Pi with seed = 443434 3.1356\n",
      "===============================\n",
      "Pi with seed = 123432 3.161\n",
      "===============================\n",
      "Pi with seed = 234444 3.1322\n",
      "===============================\n",
      "Pi with seed = 443434 3.1438\n",
      "===============================\n",
      "Pi with seed = 123432 3.15248\n",
      "===============================\n",
      "Pi with seed = 234444 3.14096\n",
      "===============================\n",
      "Pi with seed = 443434 3.13296\n",
      "===============================\n",
      "Pi with seed = 123432 3.14376\n",
      "===============================\n",
      "Pi with seed = 234444 3.14396\n",
      "===============================\n",
      "Pi with seed = 443434 3.14096\n"
     ]
    }
   ],
   "source": [
    "#import the function and libraries\n",
    "from rng import random, putSeed,getSeed \n",
    "import math \n",
    "import pandas as pan\n",
    "from statistics import mean\n",
    "\n",
    "# Uniform function \n",
    "def Uniform(a,b):  \n",
    "    return (a + (b - a) * random()) \n",
    "\n",
    "# Initialize N\n",
    "N = [10000, 20000, 50000, 100000] #, 500000, 1000000]\n",
    "\n",
    "def seedsfunction(Ns,Ys):\n",
    "    pro = [[myfunction(N, Y) for Y in Ys] for N in Ns]\n",
    "    return pro\n",
    "\n",
    "# monte carlo \n",
    "def myfunction(N,Y):\n",
    "    putSeed(Y)\n",
    "    points = 0\n",
    "    for j in range(0,N):\n",
    "        x = Uniform(0,1)\n",
    "        y = Uniform(0,1)\n",
    "        if (math.sqrt(pow(x,2) + pow(y,2)) < 1.0):\n",
    "            points=points+1\n",
    "    quarto = (float)(points/N)\n",
    "    circle = quarto*4\n",
    "    print(\"===============================\")\n",
    "    print(\"Pi with seed = \"+str(Y), (circle))\n",
    "    return circle\n",
    "\n",
    "# Result of Pi\n",
    "print(\"========================Pi=====\")\n",
    "p = seedsfunction(N,[123432,234444,443434])"
   ]
  },
  {
   "cell_type": "code",
   "execution_count": 8,
   "metadata": {},
   "outputs": [],
   "source": [
    "# dataframe\n",
    "df = pan.DataFrame(p)"
   ]
  },
  {
   "cell_type": "code",
   "execution_count": 9,
   "metadata": {},
   "outputs": [
    {
     "data": {
      "text/plain": [
       "Text(0, 0.5, 'Pi Value')"
      ]
     },
     "execution_count": 9,
     "metadata": {},
     "output_type": "execute_result"
    },
    {
     "data": {
      "image/png": "[encoded data removed]",
      "text/plain": [
       "<Figure size 1080x720 with 1 Axes>"
      ]
     },
     "metadata": {
      "needs_background": "light"
     },
     "output_type": "display_data"
    }
   ],
   "source": [
    "# import library to plot Buffon's neddle method result\n",
    "import matplotlib.pyplot as plt\n",
    "\n",
    "from pylab import rcParams\n",
    "rcParams['figure.figsize'] = 15, 10\n",
    "\n",
    "meanfunc = df.mean(axis=1)\n",
    "maxfunc = df.max(axis=1)\n",
    "minfunc = df.min(axis=1)\n",
    "\n",
    "plt.errorbar(N, meanfunc, [meanfunc - minfunc, maxfunc - meanfunc], fmt='o')\n",
    "plt.axhline(y=math.pi, color='green', linestyle='dashed')\n",
    "plt.xlabel(\"N\")\n",
    "plt.ylabel(\"Pi Value\")"
   ]
  },
  {
   "cell_type": "code",
   "execution_count": 10,
   "metadata": {},
   "outputs": [
    {
     "data": {
      "text/plain": [
       "Text(0, 0.5, 'Pi Value')"
      ]
     },
     "execution_count": 10,
     "metadata": {},
     "output_type": "execute_result"
    },
    {
     "data": {
      "image/png": "[encoded data removed]",
      "text/plain": [
       "<Figure size 1080x720 with 1 Axes>"
      ]
     },
     "metadata": {
      "needs_background": "light"
     },
     "output_type": "display_data"
    }
   ],
   "source": [
    "# Let's change the y limit with monte carlo's method as comparison with Buffon's needle simulation's result.\n",
    "plt.errorbar(N, meanfunc, [meanfunc - minfunc, maxfunc - meanfunc], fmt='o')\n",
    "plt.axhline(y=math.pi, color='green', linestyle='dashed')\n",
    "plt.ylim(2.7,3.5)\n",
    "plt.xlabel(\"N\")\n",
    "plt.ylabel(\"Pi Value\")"
   ]
  },
  {
   "cell_type": "markdown",
   "metadata": {},
   "source": [
    "Following its popularity, Monte Carlo is a more efficient method to approximate pi than Buffon's needle.\n",
    "\n",
    "We can see right from the relative same N, the result from Monte Carlo has a lower variation rather than Buffon's. \n",
    "\n",
    "In fact, Buffon’s needle theorem has more parameters rather than Monte Carlo’s with a few assumptions such as the length of needle should be ~ 5/6, which does not apply with Monte Carlo’s. The right tuning of the parameters lead to a good approximation. However, that would need more time to experiment, trials, and being parsimony, we can say in this case, Monte Carlo is better than Buffon’s."
   ]
  },
  {
   "cell_type": "code",
   "execution_count": 11,
   "metadata": {},
   "outputs": [
    {
     "data": {
      "text/html": [
       "<div>\n",
       "<style scoped>\n",
       "    .dataframe tbody tr th:only-of-type {\n",
       "        vertical-align: middle;\n",
       "    }\n",
       "\n",
       "    .dataframe tbody tr th {\n",
       "        vertical-align: top;\n",
       "    }\n",
       "\n",
       "    .dataframe thead th {\n",
       "        text-align: right;\n",
       "    }\n",
       "</style>\n",
       "<table border=\"1\" class=\"dataframe\">\n",
       "  <thead>\n",
       "    <tr style=\"text-align: right;\">\n",
       "      <th></th>\n",
       "      <th>0</th>\n",
       "      <th>1</th>\n",
       "      <th>2</th>\n",
       "    </tr>\n",
       "  </thead>\n",
       "  <tbody>\n",
       "    <tr>\n",
       "      <th>0</th>\n",
       "      <td>3.12200</td>\n",
       "      <td>3.13200</td>\n",
       "      <td>3.13560</td>\n",
       "    </tr>\n",
       "    <tr>\n",
       "      <th>1</th>\n",
       "      <td>3.16100</td>\n",
       "      <td>3.13220</td>\n",
       "      <td>3.14380</td>\n",
       "    </tr>\n",
       "    <tr>\n",
       "      <th>2</th>\n",
       "      <td>3.15248</td>\n",
       "      <td>3.14096</td>\n",
       "      <td>3.13296</td>\n",
       "    </tr>\n",
       "    <tr>\n",
       "      <th>3</th>\n",
       "      <td>3.14376</td>\n",
       "      <td>3.14396</td>\n",
       "      <td>3.14096</td>\n",
       "    </tr>\n",
       "  </tbody>\n",
       "</table>\n",
       "</div>"
      ],
      "text/plain": [
       "         0        1        2\n",
       "0  3.12200  3.13200  3.13560\n",
       "1  3.16100  3.13220  3.14380\n",
       "2  3.15248  3.14096  3.13296\n",
       "3  3.14376  3.14396  3.14096"
      ]
     },
     "execution_count": 11,
     "metadata": {},
     "output_type": "execute_result"
    }
   ],
   "source": [
    "df # Pi estimation results"
   ]
  }
 ],
 "metadata": {
  "kernelspec": {
   "display_name": "Python 3",
   "language": "python",
   "name": "python3"
  },
  "language_info": {
   "codemirror_mode": {
    "name": "ipython",
    "version": 3
   },
   "file_extension": ".py",
   "mimetype": "text/x-python",
   "name": "python",
   "nbconvert_exporter": "python",
   "pygments_lexer": "ipython3",
   "version": "3.7.6"
  }
 },
 "nbformat": 4,
 "nbformat_minor": 4
}
